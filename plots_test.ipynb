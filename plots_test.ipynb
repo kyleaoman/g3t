{
 "cells": [
  {
   "cell_type": "code",
   "execution_count": 78,
   "metadata": {},
   "outputs": [],
   "source": [
    "import plotto\n",
    "%matplotlib inline\n",
    "import imp\n",
    "imp.reload(plotto)\n",
    "from collections import OrderedDict as odict\n",
    "class O(object):\n",
    "    def __init__(self, **kw):\n",
    "            for k in kw:\n",
    "                    self.__dict__[k]=kw[k]"
   ]
  },
  {
   "cell_type": "code",
   "execution_count": 72,
   "metadata": {},
   "outputs": [
    {
     "data": {
      "text/html": [
       "\\[\\begin{pmatrix}852000044482560.0 & 943000066719744.0 & 700000011026432.0 & 997999941517312.0 & 612000023445504.0 & 849999999008768.0 & 1041000013234176.0 & 619000014831616.0 & 1150000042082304.0 & 899999995002880.0 & 692000030457856.0 & 750000007020544.0 & 805000016035840.0 & 862000003416064.0 & 731000011227136.0 & 1147000007426048.0 & 608999988789248.0 & 570999997202432.0 & 700000011026432.0\\end{pmatrix} Msun\\]"
      ],
      "text/latex": [
       "$\\begin{pmatrix}852000044482560.0 & 943000066719744.0 & 700000011026432.0 & 997999941517312.0 & 612000023445504.0 & 849999999008768.0 & 1041000013234176.0 & 619000014831616.0 & 1150000042082304.0 & 899999995002880.0 & 692000030457856.0 & 750000007020544.0 & 805000016035840.0 & 862000003416064.0 & 731000011227136.0 & 1147000007426048.0 & 608999988789248.0 & 570999997202432.0 & 700000011026432.0\\end{pmatrix}\\ \\mathrm{Msun}$"
      ],
      "text/plain": [
       "<Quantity([8.5200004e+14 9.4300007e+14 7.0000001e+14 9.9799994e+14 6.1200002e+14\n",
       " 8.5000000e+14 1.0410000e+15 6.1900001e+14 1.1500000e+15 9.0000000e+14\n",
       " 6.9200003e+14 7.5000001e+14 8.0500002e+14 8.6200000e+14 7.3100001e+14\n",
       " 1.1470000e+15 6.0899999e+14 5.7100000e+14 7.0000001e+14], 'Msun')>"
      ]
     },
     "execution_count": 72,
     "metadata": {},
     "output_type": "execute_result"
    }
   ],
   "source": [
    "meneghetti = plotto.ObservativeTable('data/meneghetti2014.t')\n",
    "meneghetti.M200c"
   ]
  },
  {
   "cell_type": "code",
   "execution_count": 45,
   "metadata": {},
   "outputs": [],
   "source": [
    "\n",
    "\n",
    "\n",
    "interp_observations = odict({\"Bullock et al 2001\":O(xrange=[11,13.5],  c8e14=5.12, B=-0.13) ,\n",
    "             \"Neto et al. 2007\": O(xrange=[11,15], c8e14=3.46, B=-0.11),\n",
    "             \"Neto et al. 2007 only relaxed\": O(xrange=[11,15], c8e14=5.27, B=-0.11),\n",
    "             \"Bhattacharya et al. 2013\":O(xrange=[11,14],  c8e14=3.8, B=-0.08),\n",
    "             \"Dutton & Maccio 2014\": O(xrange=[11,14], c8e14=3.94, B=-0.1),\n",
    "             \"Dutton & Maccio 2014 only relaxed\": O(xrange=[11,14], c8e14=4.42, B=-0.1),\n",
    "             \"Mantz et. al 2015\": O(xrange=[12,14], c8e14=3.12, B=-0.32),\n",
    "             \"Groener et al 2016 WL\": O(xrange=[14,15], c8e14=7., B=-0.42),\n",
    "             \"Groener et al 2016 WL+SL\": O(xrange=[14,15], c8e14=5., B=-0.43),\n",
    "             \"Kyplin et al. 2016\": O(xrange=[14,15], c8e14=3.8, B=-0.12)})\n",
    "             \n"
   ]
  },
  {
   "cell_type": "code",
   "execution_count": 76,
   "metadata": {},
   "outputs": [
    {
     "data": {
      "text/plain": [
       "{'dollar': '=',\n",
       " 'ureg': <pint.registry.UnitRegistry at 0x7fcaf5a92f98>,\n",
       " '_uid': 'id',\n",
       " 'dot': '.',\n",
       " 'underscore': '_',\n",
       " 'object_names': ['2', '3', '4', '5'],\n",
       " 'n_objects': 4,\n",
       " 'Cluster': MyArray(['A267', 'A963', 'RXJ1720', 'PSZ1G134'], dtype=object),\n",
       " 'z': MyArray([0.227, 0.206, 0.164, 0.207], dtype=float32),\n",
       " 'Deltam': MyArray([2.12, 2.2 , 1.9 , 2.11], dtype=float32),\n",
       " 'T_X': MyArray([5.48, 5.59, 5.8 , 5.82], dtype=float32),\n",
       " 'L_X': MyArray([2.68, 6.35, 9.08, 4.99], dtype=float32),\n",
       " 'M500': <Quantity([3.6000000e+14 4.8200002e+14 5.2600001e+14 5.7800006e+14], 'Msun')>,\n",
       " 'c500': MyArray([2.81, 3.12, 3.53, 3.09], dtype=float32),\n",
       " 'M500Y': MyArray([3.73, 5.02, 5.3 , 4.34], dtype=float32),\n",
       " 'f500': MyArray([0.12, 0.12, 0.13, 0.1 ], dtype=float32),\n",
       " 'SNR': MyArray([ 4.54,  7.96, 10.75,  4.8 ], dtype=float32)}"
      ]
     },
     "execution_count": 76,
     "metadata": {},
     "output_type": "execute_result"
    }
   ],
   "source": [
    "pratt = plotto.ObservativeTable('data/Pratt_et_al_2016.txt')\n",
    "pratt.__dict__\n"
   ]
  },
  {
   "cell_type": "code",
   "execution_count": 64,
   "metadata": {},
   "outputs": [
    {
     "data": {
      "text/plain": [
       "{'glob': {'id': '_global',\n",
       "  'M500': {'_units': '1e14Msun'},\n",
       "  'Cluster': {'_dtype': 'object'}},\n",
       " 'dollar': '=',\n",
       " 'ureg': <pint.registry.UnitRegistry at 0x7fcaf4d03908>,\n",
       " '_uid': 'id',\n",
       " 'dot': '.',\n",
       " 'underscore': '_',\n",
       " 'object_names': ['2', '3', '4', '5'],\n",
       " 'n_objects': 4,\n",
       " 'Cluster': MyArray(['A267', 'A963', 'RXJ1720', 'PSZ1G134'], dtype=object),\n",
       " 'z': MyArray([0.227, 0.206, 0.164, 0.207], dtype=float32),\n",
       " 'Deltam': MyArray([2.12, 2.2 , 1.9 , 2.11], dtype=float32),\n",
       " 'T_X': MyArray([5.48, 5.59, 5.8 , 5.82], dtype=float32),\n",
       " 'L_X': MyArray([2.68, 6.35, 9.08, 4.99], dtype=float32),\n",
       " 'M500': <Quantity([3.6000000e+14 4.8200002e+14 5.2600001e+14 5.7800006e+14], 'Msun')>,\n",
       " 'c500': MyArray([2.81, 3.12, 3.53, 3.09], dtype=float32),\n",
       " 'M500Y': MyArray([3.73, 5.02, 5.3 , 4.34], dtype=float32),\n",
       " 'f500': MyArray([0.12, 0.12, 0.13, 0.1 ], dtype=float32),\n",
       " 'SNR': MyArray([ 4.54,  7.96, 10.75,  4.8 ], dtype=float32)}"
      ]
     },
     "execution_count": 64,
     "metadata": {},
     "output_type": "execute_result"
    }
   ],
   "source": []
  },
  {
   "cell_type": "code",
   "execution_count": 271,
   "metadata": {},
   "outputs": [
    {
     "data": {
      "text/plain": [
       "10.000394537089177"
      ]
     },
     "execution_count": 271,
     "metadata": {},
     "output_type": "execute_result"
    }
   ],
   "source": [
    "import numpy as np\n",
    "import matplotlib.pyplot as plt\n",
    "\n",
    "rsfac = 0.46556\n",
    "\n",
    "NFW = lambda r,rho0,rs: rho0/((r/rs)*(1.+r/rs)**2.)\n",
    "#xs = np.logspace(-1,np.log10(.46),200)\n",
    "#profile = NFW(xs, 1./rsfac, 10.)\n",
    "\n",
    "NFW(rsfac,  10., 1.)"
   ]
  },
  {
   "cell_type": "code",
   "execution_count": 237,
   "metadata": {},
   "outputs": [
    {
     "data": {
      "text/plain": [
       "(0.46, 19.86912761972461)"
      ]
     },
     "execution_count": 237,
     "metadata": {},
     "output_type": "execute_result"
    }
   ],
   "source": [
    "#xs[-1], profile[-1]"
   ]
  },
  {
   "cell_type": "code",
   "execution_count": 1,
   "metadata": {},
   "outputs": [],
   "source": [
    "def sc(c0,a):\n",
    "    return lambda x: c0*(x/8.e14)**a\n",
    "\n",
    "def set_Mc_lims(a):\n",
    "    a.set_xscale('log')\n",
    "    a.set_xlim([1e11,2e15])\n",
    "    a.set_ylim([1,20])\n",
    "    a.set_yscale('log')\n",
    "    a.set_xlabel(\"M200c [Msun]\")\n",
    "    a.set_ylabel(\"c200c \")\n",
    "    a.legend()"
   ]
  },
  {
   "cell_type": "code",
   "execution_count": null,
   "metadata": {},
   "outputs": [],
   "source": []
  }
 ],
 "metadata": {
  "kernelspec": {
   "display_name": "Python 3",
   "language": "python",
   "name": "python3"
  },
  "language_info": {
   "codemirror_mode": {
    "name": "ipython",
    "version": 3
   },
   "file_extension": ".py",
   "mimetype": "text/x-python",
   "name": "python",
   "nbconvert_exporter": "python",
   "pygments_lexer": "ipython3",
   "version": "3.6.5"
  }
 },
 "nbformat": 4,
 "nbformat_minor": 2
}
