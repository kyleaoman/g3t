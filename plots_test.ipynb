{
 "cells": [
  {
   "cell_type": "code",
   "execution_count": 5,
   "metadata": {},
   "outputs": [],
   "source": [
    "import plotto\n",
    "%matplotlib inline\n",
    "import imp\n",
    "imp.reload(plotto)\n",
    "from collections import OrderedDict as odict\n",
    "class O(object):\n",
    "    def __init__(self, **kw):\n",
    "            for k in kw:\n",
    "                    self.__dict__[k]=kw[k]"
   ]
  },
  {
   "cell_type": "code",
   "execution_count": 6,
   "metadata": {},
   "outputs": [
    {
     "data": {
      "text/html": [
       "\\[\\begin{pmatrix}852000044482560.0 & 943000066719744.0 & 700000011026432.0 & 997999941517312.0 & 612000023445504.0 & 849999999008768.0 & 1041000013234176.0 & 619000014831616.0 & 1150000042082304.0 & 899999995002880.0 & 692000030457856.0 & 750000007020544.0 & 805000016035840.0 & 862000003416064.0 & 731000011227136.0 & 1147000007426048.0 & 608999988789248.0 & 570999997202432.0 & 700000011026432.0\\end{pmatrix} Msun\\]"
      ],
      "text/latex": [
       "$\\begin{pmatrix}852000044482560.0 & 943000066719744.0 & 700000011026432.0 & 997999941517312.0 & 612000023445504.0 & 849999999008768.0 & 1041000013234176.0 & 619000014831616.0 & 1150000042082304.0 & 899999995002880.0 & 692000030457856.0 & 750000007020544.0 & 805000016035840.0 & 862000003416064.0 & 731000011227136.0 & 1147000007426048.0 & 608999988789248.0 & 570999997202432.0 & 700000011026432.0\\end{pmatrix}\\ \\mathrm{Msun}$"
      ],
      "text/plain": [
       "<Quantity([8.5200004e+14 9.4300007e+14 7.0000001e+14 9.9799994e+14 6.1200002e+14\n",
       " 8.5000000e+14 1.0410000e+15 6.1900001e+14 1.1500000e+15 9.0000000e+14\n",
       " 6.9200003e+14 7.5000001e+14 8.0500002e+14 8.6200000e+14 7.3100001e+14\n",
       " 1.1470000e+15 6.0899999e+14 5.7100000e+14 7.0000001e+14], 'Msun')>"
      ]
     },
     "execution_count": 6,
     "metadata": {},
     "output_type": "execute_result"
    }
   ],
   "source": [
    "meneghetti = plotto.ObservativeTable('data/meneghetti2014.t')\n",
    "meneghetti.M200c"
   ]
  },
  {
   "cell_type": "code",
   "execution_count": 7,
   "metadata": {},
   "outputs": [],
   "source": [
    "\n",
    "\n",
    "\n",
    "interp_observations = odict({\"Bullock et al 2001\":O(xrange=[11,13.5],  c8e14=5.12, B=-0.13) ,\n",
    "             \"Neto et al. 2007\": O(xrange=[11,15], c8e14=3.46, B=-0.11),\n",
    "             \"Neto et al. 2007 only relaxed\": O(xrange=[11,15], c8e14=5.27, B=-0.11),\n",
    "             \"Bhattacharya et al. 2013\":O(xrange=[11,14],  c8e14=3.8, B=-0.08),\n",
    "             \"Dutton & Maccio 2014\": O(xrange=[11,14], c8e14=3.94, B=-0.1),\n",
    "             \"Dutton & Maccio 2014 only relaxed\": O(xrange=[11,14], c8e14=4.42, B=-0.1),\n",
    "             \"Mantz et. al 2015\": O(xrange=[12,14], c8e14=3.12, B=-0.32),\n",
    "             \"Groener et al 2016 WL\": O(xrange=[14,15], c8e14=7., B=-0.42),\n",
    "             \"Groener et al 2016 WL+SL\": O(xrange=[14,15], c8e14=5., B=-0.43),\n",
    "             \"Kyplin et al. 2016\": O(xrange=[14,15], c8e14=3.8, B=-0.12)})\n",
    "             \n"
   ]
  },
  {
   "cell_type": "code",
   "execution_count": 8,
   "metadata": {},
   "outputs": [],
   "source": [
    "pratt = plotto.ObservativeTable('data/Pratt_et_al_2016.txt')\n",
    "\n"
   ]
  },
  {
   "cell_type": "code",
   "execution_count": null,
   "metadata": {},
   "outputs": [],
   "source": []
  },
  {
   "cell_type": "code",
   "execution_count": 9,
   "metadata": {},
   "outputs": [
    {
     "data": {
      "text/plain": [
       "10.000394537089177"
      ]
     },
     "execution_count": 9,
     "metadata": {},
     "output_type": "execute_result"
    }
   ],
   "source": [
    "import numpy as np\n",
    "import matplotlib.pyplot as plt\n",
    "\n",
    "rsfac = 0.46556\n",
    "\n",
    "NFW = lambda r,rho0,rs: rho0/((r/rs)*(1.+r/rs)**2.)\n",
    "#xs = np.logspace(-1,np.log10(.46),200)\n",
    "#profile = NFW(xs, 1./rsfac, 10.)\n",
    "\n",
    "NFW(rsfac,  10., 1.)"
   ]
  },
  {
   "cell_type": "code",
   "execution_count": 10,
   "metadata": {},
   "outputs": [],
   "source": [
    "#xs[-1], profile[-1]"
   ]
  },
  {
   "cell_type": "code",
   "execution_count": 11,
   "metadata": {},
   "outputs": [],
   "source": [
    "def sc(c0,a):\n",
    "    return lambda x: c0*(x/8.e14)**a\n",
    "\n",
    "def set_Mc_lims(a):\n",
    "    a.set_xscale('log')\n",
    "    a.set_xlim([1e11,2e15])\n",
    "    a.set_ylim([1,20])\n",
    "    a.set_yscale('log')\n",
    "    a.set_xlabel(\"M200c [Msun]\")\n",
    "    a.set_ylabel(\"c200c \")\n",
    "    a.legend()"
   ]
  },
  {
   "cell_type": "code",
   "execution_count": 22,
   "metadata": {},
   "outputs": [],
   "source": [
    "rsfac = 0.46556\n",
    "NFW = lambda r,rho0,rs: rho0/((r/rs)*(1.+r/rs)**2.)\n",
    "\n",
    "\n",
    "\n",
    "\n",
    "f_NFW = lambda c:(np.log(1.+c)-c/(1.+c))\n",
    "\n",
    "def cdelta1(delta1,delta2,cdelta2):\n",
    "    return lambda cdelta1: cdelta2 * (  (delta2/delta1)*(f_NFW(cdelta1)/f_NFW(cdelta2))  )**(1./3.)\n",
    "\n",
    "\n",
    "def banach_caccioppoli(f,x0,accuracy=0.00001): \n",
    "    \"\"\" this function solves equation of the kind x=f(x) by iterations, given an initial value x=x0\"\"\"\n",
    "    condition=True\n",
    "    x1=x0\n",
    "    steps=0\n",
    "    while condition:\n",
    "        \n",
    "        steps+=1\n",
    "        x2 = f(x1)\n",
    "        error = np.abs(x2-x1)/x2\n",
    "        condition = np.all(error>accuracy)\n",
    "        x1=x2\n",
    "    return x2, steps,error\n",
    "\n",
    "def convert_concentration(new_delta, old_delta, old_concentration):\n",
    "    new_concentration,steps,error = banach_caccioppoli( cdelta1(new_delta, old_delta,  old_concentration), old_concentration)\n",
    "    return new_concentration\n",
    "\n",
    "def convert_mass(new_delta, old_delta,  new_concentration, old_concentration, old_mass):\n",
    "    return old_mass*(new_delta/old_delta)*(new_concentration/old_concentration)**3\n",
    "\n",
    "def convert_mass_and_concentration(new_delta, old_delta, old_concentration, old_mass):\n",
    "    new_concentration,steps,error = banach_caccioppoli( cdelta1(new_delta, old_delta,  old_concentration), old_concentration)\n",
    "    new_mass = old_mass*(new_delta/old_delta)*(new_concentration/old_concentration)**3\n",
    "    return new_mass, new_concentration\n",
    "\n",
    "\n"
   ]
  },
  {
   "cell_type": "code",
   "execution_count": 23,
   "metadata": {},
   "outputs": [],
   "source": [
    "\n",
    "pratt.c200 = convert_concentration(200., 500., pratt.c500)\n",
    "pratt.M200 = convert_mass(200., 500., pratt.c200, pratt.c500,  pratt.M500)"
   ]
  },
  {
   "cell_type": "code",
   "execution_count": null,
   "metadata": {},
   "outputs": [],
   "source": []
  }
 ],
 "metadata": {
  "kernelspec": {
   "display_name": "Python 3",
   "language": "python",
   "name": "python3"
  },
  "language_info": {
   "codemirror_mode": {
    "name": "ipython",
    "version": 3
   },
   "file_extension": ".py",
   "mimetype": "text/x-python",
   "name": "python",
   "nbconvert_exporter": "python",
   "pygments_lexer": "ipython3",
   "version": "3.6.5"
  }
 },
 "nbformat": 4,
 "nbformat_minor": 2
}
