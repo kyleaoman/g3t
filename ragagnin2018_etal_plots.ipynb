{
 "cells": [
  {
   "cell_type": "code",
   "execution_count": 1,
   "metadata": {},
   "outputs": [],
   "source": [
    "import pandas as pd\n",
    "import sqlite3\n",
    "import contextlib \n",
    "%matplotlib notebook\n",
    "import matplotlib\n",
    "import numpy as np\n",
    "import matplotlib.pyplot as plt\n",
    "import g3read as g\n",
    "\n",
    "h=.704\n",
    "mass_Msun=1e10/h\n",
    "r_kpc=1./h"
   ]
  },
  {
   "cell_type": "code",
   "execution_count": 2,
   "metadata": {},
   "outputs": [],
   "source": [
    "def simul(q):\n",
    "    with contextlib.closing(sqlite3.connect(\"/tmp/ciao_1e4.sql\")) as con:\n",
    "        with con as cur:\n",
    "           return pd.read_sql_query(q, cur)"
   ]
  },
  {
   "cell_type": "code",
   "execution_count": 8,
   "metadata": {},
   "outputs": [],
   "source": [
    "df = simul (\"\"\"\n",
    "select fof.*, MAX(g.smst4) as max_mstargal, MIN(g.smst4) min_mstargal\n",
    "from fof inner join (\n",
    "    select smst4,galaxy.id_cluster,galaxy.snap_id from galaxy order by smst4 desc\n",
    ") as g on g.id_cluster = fof.id_cluster and g.snap_id = fof.snap_id\n",
    "inner join snap on fof.snap_id = snap.id \n",
    "where snap.tag = 'z0'\n",
    "-- limit 5000;\n",
    "\"\"\")"
   ]
  },
  {
   "cell_type": "code",
   "execution_count": null,
   "metadata": {},
   "outputs": [],
   "source": [
    "rdf = df.sample(n=100)"
   ]
  }
 ],
 "metadata": {
  "kernelspec": {
   "display_name": "Python 3",
   "language": "python",
   "name": "python3"
  },
  "language_info": {
   "codemirror_mode": {
    "name": "ipython",
    "version": 3
   },
   "file_extension": ".py",
   "mimetype": "text/x-python",
   "name": "python",
   "nbconvert_exporter": "python",
   "pygments_lexer": "ipython3",
   "version": "3.6.5"
  }
 },
 "nbformat": 4,
 "nbformat_minor": 2
}
